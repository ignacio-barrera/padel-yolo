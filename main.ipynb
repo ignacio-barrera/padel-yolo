{
 "cells": [
  {
   "cell_type": "markdown",
   "metadata": {},
   "source": [
    "## Proyecto IPD-434\n",
    "### Ignacio Barrera\n",
    "### 201904093-6"
   ]
  },
  {
   "cell_type": "markdown",
   "metadata": {},
   "source": [
    "#### Imports"
   ]
  },
  {
   "cell_type": "code",
   "execution_count": 3,
   "id": "15a9065a",
   "metadata": {
    "scrolled": true
   },
   "outputs": [],
   "source": [
    "import sys\n",
    "sys.executable\n",
    "from ultralytics import YOLO\n",
    "import os\n",
    "import cv2"
   ]
  },
  {
   "cell_type": "markdown",
   "metadata": {},
   "source": [
    "#### Entrenamiento de YOLO"
   ]
  },
  {
   "cell_type": "code",
   "execution_count": null,
   "metadata": {},
   "outputs": [],
   "source": [
    "!yolo task=detect mode=train model=yolov8n.pt data=C:\\Users\\ignac\\Local\\SmartVision\\Proyectos\\padeltrack\\padel-balls-1\\data.yaml epochs=10 patience=3"
   ]
  },
  {
   "cell_type": "markdown",
   "metadata": {},
   "source": [
    "#### Validación"
   ]
  },
  {
   "cell_type": "code",
   "execution_count": 33,
   "id": "3da63819",
   "metadata": {},
   "outputs": [
    {
     "name": "stdout",
     "output_type": "stream",
     "text": [
      "Ultralytics YOLOv8.0.221 🚀 Python-3.11.5 torch-2.1.0 CUDA:0 (NVIDIA GeForce RTX 3060 Laptop GPU, 6144MiB)\n",
      "Model summary (fused): 218 layers, 25840339 parameters, 0 gradients, 78.7 GFLOPs\n",
      "                   all         71         70      0.871        0.6      0.743       0.25\n",
      "Speed: 9.7ms preprocess, 22.8ms inference, 0.0ms loss, 9.2ms postprocess per image\n",
      "Results saved to \u001b[1mruns\\detect\\val\u001b[0m\n",
      "💡 Learn more at https://docs.ultralytics.com/modes/val\n"
     ]
    },
    {
     "name": "stderr",
     "output_type": "stream",
     "text": [
      "\n",
      "\u001b[34m\u001b[1mval: \u001b[0mScanning C:\\Users\\ignac\\Local\\SmartVision\\Proyectos\\padeltrack\\padel-balls-1\\valid\\labels.cache... 71 images, 1 backgrounds, 0 corrupt: 100%|██████████| 71/71 [00:00<?, ?it/s]\n",
      "\u001b[34m\u001b[1mval: \u001b[0mScanning C:\\Users\\ignac\\Local\\SmartVision\\Proyectos\\padeltrack\\padel-balls-1\\valid\\labels.cache... 71 images, 1 backgrounds, 0 corrupt: 100%|██████████| 71/71 [00:00<?, ?it/s]\n",
      "\n",
      "                 Class     Images  Instances      Box(P          R      mAP50  mAP50-95):   0%|          | 0/5 [00:00<?, ?it/s]\n",
      "                 Class     Images  Instances      Box(P          R      mAP50  mAP50-95):  20%|██        | 1/5 [00:06<00:26,  6.65s/it]\n",
      "                 Class     Images  Instances      Box(P          R      mAP50  mAP50-95):  40%|████      | 2/5 [00:07<00:09,  3.25s/it]\n",
      "                 Class     Images  Instances      Box(P          R      mAP50  mAP50-95):  60%|██████    | 3/5 [00:08<00:04,  2.04s/it]\n",
      "                 Class     Images  Instances      Box(P          R      mAP50  mAP50-95):  80%|████████  | 4/5 [00:08<00:01,  1.51s/it]\n",
      "                 Class     Images  Instances      Box(P          R      mAP50  mAP50-95): 100%|██████████| 5/5 [00:09<00:00,  1.11s/it]\n",
      "                 Class     Images  Instances      Box(P          R      mAP50  mAP50-95): 100%|██████████| 5/5 [00:09<00:00,  1.84s/it]\n"
     ]
    }
   ],
   "source": [
    "!yolo task=detect mode=val model=\"C:\\Users\\ignac\\Local\\SmartVision\\Proyectos\\padeltrack\\runs\\detect\\train_m_noimgsz\\weights\\best.pt\" data=\"C:\\Users\\ignac\\Local\\SmartVision\\Proyectos\\padeltrack\\padel-balls-1\\data.yaml\""
   ]
  },
  {
   "cell_type": "markdown",
   "metadata": {},
   "source": [
    "#### Predicción"
   ]
  },
  {
   "cell_type": "code",
   "execution_count": null,
   "metadata": {},
   "outputs": [],
   "source": [
    "# Predicción sobre el apartado test del dataset\n",
    "!yolo task=detect mode=predict model=\"C:\\Users\\ignac\\Local\\SmartVision\\Proyectos\\padeltrack\\runs\\detect\\train_m_noimgsz\\weights\\best.pt\" source=\"C:\\Users\\ignac\\Local\\SmartVision\\Proyectos\\padeltrack\\padel-balls-1\\test\\images\" save=True imgsz=(1920,1080)"
   ]
  },
  {
   "cell_type": "code",
   "execution_count": null,
   "metadata": {},
   "outputs": [],
   "source": [
    "!yolo task=detect mode=predict model=\"C:\\Users\\ignac\\Local\\SmartVision\\Proyectos\\padeltrack\\runs\\detect\\train_m_noimgsz\\weights\\best.pt\" source=\"C:\\Users\\ignac\\Local\\SmartVision\\Proyectos\\padeltrack\\test_2.mp4\" save=True imgsz=(1920,1080)"
   ]
  },
  {
   "cell_type": "code",
   "execution_count": null,
   "id": "d2609250",
   "metadata": {},
   "outputs": [],
   "source": [
    "# Predicción sobre videos externos\n",
    "!yolo task=detect mode=predict model=\"C:\\Users\\ignac\\Local\\SmartVision\\Proyectos\\padeltrack\\runs\\detect\\train_m_noimgsz\\weights\\best.pt\" source=\"C:\\Users\\ignac\\Local\\SmartVision\\Proyectos\\padeltrack\\test.mp4\" save=True imgsz=(1920,1080)"
   ]
  },
  {
   "cell_type": "markdown",
   "metadata": {},
   "source": [
    "#### Script para aplicar resize a un video"
   ]
  },
  {
   "cell_type": "code",
   "execution_count": 3,
   "metadata": {},
   "outputs": [],
   "source": [
    "# Resize de video (se añaden bordes negros)\n",
    "\n",
    "video_path = 'test3.mp4'\n",
    "cap = cv2.VideoCapture(video_path)\n",
    "\n",
    "fourcc = cv2.VideoWriter_fourcc(*'mp4v')\n",
    "out = cv2.VideoWriter('test_resized.mp4', fourcc, cap.get(cv2.CAP_PROP_FPS), (1920, 1920))\n",
    "\n",
    "while True:\n",
    "    ret, frame = cap.read()\n",
    "    if not ret:\n",
    "        break\n",
    "\n",
    "    h, w, _ = frame.shape\n",
    "    top = bottom = (1920 - h) // 2\n",
    "    padded_frame = cv2.copyMakeBorder(frame, top, bottom, 0, 0, cv2.BORDER_CONSTANT, value=[0, 0, 0])\n",
    "    out.write(padded_frame)\n",
    "\n",
    "cap.release()\n",
    "out.release()\n",
    "cv2.destroyAllWindows()"
   ]
  }
 ],
 "metadata": {
  "kernelspec": {
   "display_name": "smartvision",
   "language": "python",
   "name": "python3"
  },
  "language_info": {
   "codemirror_mode": {
    "name": "ipython",
    "version": 3
   },
   "file_extension": ".py",
   "mimetype": "text/x-python",
   "name": "python",
   "nbconvert_exporter": "python",
   "pygments_lexer": "ipython3",
   "version": "3.12.4"
  }
 },
 "nbformat": 4,
 "nbformat_minor": 5
}
